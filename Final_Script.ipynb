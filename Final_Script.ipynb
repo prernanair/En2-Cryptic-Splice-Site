{
 "cells": [
  {
   "cell_type": "code",
   "execution_count": 1,
   "id": "ec47ee63",
   "metadata": {},
   "outputs": [],
   "source": [
    "import os\n",
    "#form data types in file. SeqIO handles sequence input/output\n",
    "from Bio import SeqIO\n",
    "from Bio.Seq import Seq\n",
    "#import all sequence records. each gene file is read as one record (Locus to end of Origin)\n",
    "from Bio.SeqRecord import SeqRecord\n",
    "#feature location = datatype. categorize and allow parsing through features section\n",
    "from Bio.SeqFeature import SeqFeature, FeatureLocation\n",
    "\n",
    "#read record by record (one gene file at a time)\n",
    "recs = [rec for rec in SeqIO.parse(\"genbankfiles_justkofirst.gb\", \"genbank\")]\n"
   ]
  },
  {
   "cell_type": "code",
   "execution_count": 2,
   "id": "7d8270ee",
   "metadata": {},
   "outputs": [
    {
     "data": {
      "text/plain": [
       "20522"
      ]
     },
     "execution_count": 2,
     "metadata": {},
     "output_type": "execute_result"
    }
   ],
   "source": [
    "#number of records\n",
    "len(recs)"
   ]
  },
  {
   "cell_type": "code",
   "execution_count": 3,
   "id": "f7d19438",
   "metadata": {},
   "outputs": [
    {
     "name": "stdout",
     "output_type": "stream",
     "text": [
      "targeted genes:  20436\n",
      "untargeted genes:  86\n"
     ]
    }
   ],
   "source": [
    "#list for records that have target exons\n",
    "result = []\n",
    "#list for \n",
    "exon_locations = []\n",
    "#empty list for potential target exons that don't fit within critical region of particular gene\n",
    "bad_exon = []\n",
    "count = 0\n",
    "#list for gene names that don't have 'target exon' in their record (untargeted genes)\n",
    "untargeted_genes = []\n",
    "\n",
    "#for loop going through each record \n",
    "for rec in recs:\n",
    "    #separate misc features into datatype. allow parsing of only misc features for start:end values\n",
    "    feats = [feat for feat in rec.features if feat.type == \"misc_feature\"]\n",
    "    #separate exon into datatype. allow parsing of only data under term 'exon'\n",
    "    exons = [feat for feat in rec.features if feat.type == \"exon\"]\n",
    "    # formatting feature key value\n",
    "    for feat in feats:\n",
    "      #look for mention of 'critical region' in misc_features datatype. always in 'note' section\n",
    "      if(feat.qualifiers['note'][0].lower() == \"critical region\"):\n",
    "        #print(\"Start :\", feat.location.start) \n",
    "        crit_start = feat.location.start\n",
    "        #print(\"End :\", feat.location.end)\n",
    "        crit_end = feat.location.end\n",
    "\n",
    "    crit_exon = []\n",
    "    for exon in exons:\n",
    "        \n",
    "        \n",
    "        #test for ccdc50\n",
    "        if (rec.description.split(\":\")[0].split(\" \")[-1] == \"Tm4sf4\"):\n",
    "            print(exon.qualifiers)\n",
    "       \n",
    "        if(\"target exon\" in exon.qualifiers['note'][0].lower()):   \n",
    "        #------------------------------------------\n",
    "            crit_exon.append(exon.qualifiers['note'][0].split(' ')[3])\n",
    "            if not (exon.location.start > crit_start and exon.location.end < crit_end):\n",
    "              #print(\"Exon :\", exon)\n",
    "              bad_exon.append(str(exon.qualifiers['note'][0].split(' ')[3]))\n",
    "              #target_exon.append(exon.qualifiers['note'][0].split(' ')[3])\n",
    "              #result.append(exon.qualifiers['note'][0].split(' ')[3])\n",
    "\n",
    "#logging records that don't have target exon.\n",
    "    if (len(crit_exon) == 0):\n",
    "        #search through 'description' in the file and split by commas. append gene name (4th split) into new file \n",
    "        untargeted_genes.append(rec.description.split(\",\")[2].split(\" \")[4])\n",
    "        continue\n",
    "        \n",
    "    #checking for multiple target exons within 1 gene. taking only first and last exon ID \n",
    "    elif (len(crit_exon) > 1):\n",
    "      result.append(crit_exon[0])\n",
    "      exon_locations.append([crit_exon[0],crit_exon[-1]])\n",
    "      count += 2\n",
    "    #if gene has only 1 'target exon', append the ensembl ID \n",
    "    else:\n",
    "      result.append(crit_exon[0])\n",
    "      exon_locations.append(crit_exon[0])\n",
    "      count += 1\n",
    "#count is how many mentions of 'target exon' there are. takes into consideration genes that have multiple target exons\n",
    "\n",
    "#print(\"total mention of 'target exons':\", count)\n",
    "print(\"targeted genes: \", len(exon_locations))\n",
    "print(\"untargeted genes: \", len(untargeted_genes))\n",
    "\n"
   ]
  },
  {
   "cell_type": "code",
   "execution_count": 4,
   "id": "5452a047",
   "metadata": {},
   "outputs": [],
   "source": [
    "#check\n",
    "if 'ENSMUSE00000155698' in result:\n",
    "    print('1')"
   ]
  },
  {
   "cell_type": "code",
   "execution_count": 5,
   "id": "e44232b5",
   "metadata": {},
   "outputs": [],
   "source": [
    "#Writing all critical exon IDs into a file\n",
    "file = open(\"crit_exon.txt\",\"w\")\n",
    "for i in range(len(exon_locations)):\n",
    "  file.write(\"{} = {}\\n\".format(result[i],exon_locations[i]))\n",
    "file.close()\n",
    "\n",
    "#Writing critical exon IDs that don't fit in critical range into a file\n",
    "file = open(\"crit_exon_range.txt\",\"w\")\n",
    "for i in bad_exon:\n",
    "    file.write(i+\"\\n\")\n",
    "file.close()\n",
    "\n",
    "#Writing untargeted gene names into a file \n",
    "file = open(\"untargeted.txt\",\"w\")\n",
    "for i in untargeted_genes:\n",
    "    file.write(i+\"\\n\")\n",
    "file.close()"
   ]
  },
  {
   "cell_type": "code",
   "execution_count": 6,
   "id": "4955da60",
   "metadata": {},
   "outputs": [],
   "source": [
    "#read in BioMart file containing canonical data on all protein coding genes. \n",
    "exons = open('pcg_canonical.txt','r').readlines()\n",
    "#dictionary for gene IDs, gene names, ranks, trans IDs\n",
    "gene_ids = {}\n",
    "#trans_ids = {}\n",
    "gene_names = {}\n",
    "rank = {}\n",
    "trans_ids_exon_first = {}\n",
    "from collections import defaultdict\n",
    "trans_ids = defaultdict(dict)\n",
    "\n",
    "exon_dict = {}\n",
    "for i in range(1,len(exons)):\n",
    "  temp = exons[i].split(',')\n",
    "  exon_dict.setdefault(temp[2], [])\n",
    "  trans_ids.setdefault(temp[2], {})\n",
    "  exon_dict[temp[2]] = (temp[1],int(temp[5]),int(temp[6]))\n",
    "  gene_ids[temp[2]] = temp[0]\n",
    "  trans_ids[temp[1]][temp[7]] = temp[2]\n",
    "  trans_ids_exon_first[temp[2]] = temp[1]\n",
    "  gene_names[temp[2]] = temp[8]\n",
    "  rank[temp[2]] = temp[7]\n"
   ]
  },
  {
   "cell_type": "code",
   "execution_count": 7,
   "id": "56577854",
   "metadata": {},
   "outputs": [
    {
     "name": "stdout",
     "output_type": "stream",
     "text": [
      "ENSMUST00000027263\n"
     ]
    },
    {
     "data": {
      "text/plain": [
       "'ENSMUSE00000496813'"
      ]
     },
     "execution_count": 7,
     "metadata": {},
     "output_type": "execute_result"
    }
   ],
   "source": [
    "print(trans_ids_exon_first['ENSMUSE00000155698'])\n",
    "trans_ids['ENSMUST00000027263'][max(trans_ids['ENSMUST00000027263'].keys())]"
   ]
  },
  {
   "cell_type": "code",
   "execution_count": 8,
   "id": "42d1c6ad",
   "metadata": {},
   "outputs": [
    {
     "name": "stdout",
     "output_type": "stream",
     "text": [
      "#of targeted exons not present in BioMart caonnical file:  607\n"
     ]
    }
   ],
   "source": [
    "#list for critical exon IDs from IMPC file that are not present in BioMart pcg_canonical file\n",
    "non_canonical_exons = []\n",
    "\n",
    "#fixing ordering of ids. using pcg_canonical file to order the genes with multiple critical exons in correct order (based on rank)\n",
    "#need correct order to get right start and end phases \n",
    "for i,exonid in enumerate(result):\n",
    "    try:\n",
    "        if (type(exon_locations[i]) == list):\n",
    "            if (rank[exon_locations[i][0]] > rank[exon_locations[i][1]]):\n",
    "                exon_locations[i][0], exon_locations[i][1] = exon_locations[i][1], exon_locations[i][0]\n",
    "                result[i] = exon_locations[i][0]\n",
    "                \n",
    "    #append exon IDs that are not present in pcg_canonical into a new file           \n",
    "    except KeyError:\n",
    "        non_canonical_exons.append(exonid)\n",
    "        \n",
    "print(\"#of targeted exons not present in BioMart caonnical file: \", len(non_canonical_exons))\n",
    "    "
   ]
  },
  {
   "cell_type": "code",
   "execution_count": 9,
   "id": "ec0d93bc",
   "metadata": {},
   "outputs": [],
   "source": [
    "#re-open file and overwrite previous data. now will have exon IDs in correct order\n",
    "file = open(\"crit_exon.txt\",\"w\")\n",
    "for i in range(len(exon_locations)):\n",
    "  file.write(\"{} = {}\\n\".format(result[i],exon_locations[i]))\n",
    "file.close()\n",
    "\n",
    "#write non_canonical_exon IDs into a file\n",
    "file = open(\"non_canonical_exons.txt\",\"w\")\n",
    "for i in range(len(non_canonical_exons)):\n",
    "  file.write(\"{}\\n\".format(non_canonical_exons[i]))\n",
    "file.close()"
   ]
  },
  {
   "cell_type": "code",
   "execution_count": 10,
   "id": "359bcdca",
   "metadata": {},
   "outputs": [],
   "source": [
    "file = open(\"final.txt\",\"w\")\n",
    " \n",
    "#write file including target genes, transript IDs, exon IDs, phases, and rank\n",
    "#looking for genes with single critical exon, and with multiple\n",
    "for i in exon_locations:\n",
    "    try:\n",
    "        if(type(i) == list):\n",
    "            file.write(\"{} = {},{},{},{},{},{}\\n\".format(gene_names[i[0]],trans_ids_exon_first[i[0]],i[0],i[1],exon_dict[i[0]][1],exon_dict[i[1]][2],rank[i[0]]))\n",
    "        else:\n",
    "            #format gene name = transcript ID, crit exon ID, start phase, end phase, rank\n",
    "            file.write(\"{} = {},{},{},{},{}\\n\".format(gene_names[i],trans_ids_exon_first[i],i,exon_dict[i][1],exon_dict[i][2],rank[i]))\n",
    "    except KeyError:\n",
    "        continue\n",
    "\n",
    "file.close()"
   ]
  },
  {
   "cell_type": "code",
   "execution_count": 23,
   "id": "c661003e",
   "metadata": {},
   "outputs": [
    {
     "name": "stdout",
     "output_type": "stream",
     "text": [
      "20436\n"
     ]
    }
   ],
   "source": [
    "#list to store start and end phases for each gene\n",
    "gene_phases = {}\n",
    "no_coding = [] # FORMAT = [ exonid, geneid, gene name]\n",
    "print(len(exon_locations))\n",
    "#CHECK if exon ID exists or not in pcg canonical file\n",
    "def check(num):\n",
    "    if (num not in exon_dict.keys()):\n",
    "        no_coding.append(num)\n",
    "        return False\n",
    "    else:\n",
    "        return True"
   ]
  },
  {
   "cell_type": "code",
   "execution_count": 12,
   "id": "85c7c16c",
   "metadata": {},
   "outputs": [
    {
     "name": "stdout",
     "output_type": "stream",
     "text": [
      "14221\n",
      "Stop_codon_en2: 2876\n",
      "Readthrough: 3811\n",
      "Frameshift: 5108\n",
      "Unaccounted: 0\n"
     ]
    }
   ],
   "source": [
    "#lists for different categories \n",
    "stop_codon_en2 = [] #phase start 2\n",
    "read_through = [] #phase 0-1 OR 1-2\n",
    "frameshift = [] #phase 0-0 OR 0-2 OR 1-0 OR 1-1 \n",
    "truncated_protein = [] #phase start 2, ends in  -1\n",
    "no_stop_codon = [] #phase start -\n",
    "no_proper_end =[]#end with -\n",
    "unaccounted = []\n",
    "print(len(gene_phases.keys()))\n",
    "\n",
    "for i in gene_phases.keys():\n",
    "    if (gene_phases[i][0] == 2):\n",
    "        stop_codon_en2.append(i)\n",
    "    elif (gene_phases[i][0] < 0):\n",
    "        no_stop_codon.append(i)\n",
    "    elif (gene_phases[i][1] < 0):\n",
    "        no_proper_end.append(i)\n",
    "    elif ((gene_phases[i][0] == 0 and gene_phases[i][1] == 1)):\n",
    "        read_through.append(i)\n",
    "    elif ((gene_phases[i][0] == 1 and gene_phases[i][1] == 2)):\n",
    "        read_through.append(i)\n",
    "    elif ((gene_phases[i][0] == 0 and gene_phases[i][1] == 2)):\n",
    "        frameshift.append(i)\n",
    "    elif ((gene_phases[i][0] == 1 and gene_phases[i][1] == 1)):\n",
    "        frameshift.append(i)\n",
    "    elif ((gene_phases[i][0] == 0 and gene_phases[i][1] == 0)):\n",
    "        frameshift.append(i)\n",
    "    elif ((gene_phases[i][0] == 1 and gene_phases[i][1] == 0)):\n",
    "        frameshift.append(i)\n",
    "    if ((gene_phases[i][0] == 2 and gene_phases[i][1] == -1)):\n",
    "        truncated_protein.append(i)\n",
    "    \n",
    "\n",
    "print(\"Stop_codon_en2:\",len(stop_codon_en2))\n",
    "print(\"Readthrough:\",len(read_through))\n",
    "print(\"Frameshift:\",len(frameshift))\n",
    "print(\"Unaccounted:\",len(unaccounted))"
   ]
  },
  {
   "cell_type": "code",
   "execution_count": 13,
   "id": "765cbfa5",
   "metadata": {},
   "outputs": [],
   "source": [
    "stop_codon_file = open('stop_codon.txt','w')\n",
    "for i in stop_codon_en2:\n",
    "    stop_codon_file.write(\"{} = {},{}\\n\".format(i,gene_ids[i],gene_names[i]))\n",
    "stop_codon_file.close()\n",
    "\n",
    "read_through_file = open('read_through.txt','w')\n",
    "for i in read_through:\n",
    "    read_through_file.write(\"{} = {},{}\\n\".format(i,gene_ids[i],gene_names[i]))\n",
    "read_through_file.close()\n",
    "\n",
    "frameshift_file = open('frameshift.txt','w')\n",
    "for i in frameshift:\n",
    "    frameshift_file.write(\"{} = {},{}\\n\".format(i,gene_ids[i],gene_names[i]))\n",
    "frameshift_file.close()\n",
    "\n",
    "truncated_protein_file = open('truncated_protein.txt','w')\n",
    "for i in truncated_protein:\n",
    "    truncated_protein_file.write(\"{} = {},{}\\n\".format(i,gene_ids[i],gene_names[i]))\n",
    "truncated_protein_file.close()\n",
    "\n",
    "no_stop_codon_file = open('no_stop_codon.txt','w')\n",
    "for i in no_stop_codon:\n",
    "    no_stop_codon_file.write(\"{} = {},{}\\n\".format(i,gene_ids[i],gene_names[i]))\n",
    "no_stop_codon_file.close()\n",
    "\n",
    "no_proper_end_file = open('no_proper_end.txt','w')\n",
    "for i in no_proper_end:\n",
    "    no_proper_end_file.write(\"{} = {},{}\\n\".format(i,gene_ids[i],gene_names[i]))\n",
    "no_proper_end_file.close()\n"
   ]
  },
  {
   "cell_type": "code",
   "execution_count": 14,
   "id": "a80bbc8a",
   "metadata": {},
   "outputs": [],
   "source": [
    "#Parsing .rpt file as csv \n",
    "import csv\n",
    "\n",
    "filename = \"MGI_Gene_Model_Coord.rpt\"\n",
    "\n",
    "\n",
    "gene_model = {}\n",
    "\n",
    "\n",
    "\n",
    "with open(filename, \"r\") as f:\n",
    "    reader = csv.reader(f, delimiter=\"\\t\")\n",
    "    header = next(reader)  # extract the header row\n",
    "    for row in reader:\n",
    "        # extract the data from each row\n",
    "        gene_model[row[10]] = (row[2],row[0].split(\":\")[1])\n",
    "#         accession_id.append(row[0].split(\":\")[1])\n",
    "#         marker_symbol.append(row[2])\n",
    "#         ensembl_gene_id.append(row[10])\n",
    "\n",
    "file = open('mgi_match.txt', 'w')\n",
    "#6 missing\n",
    "missing = []\n",
    "for i in gene_phases.keys():\n",
    "    try:\n",
    "        file.write(\"{} = {},{}\\n\".format(gene_model[gene_ids[i]][0],gene_ids[i],gene_model[gene_ids[i]][1]))\n",
    "    except KeyError:\n",
    "        missing.append(i)\n",
    "\n",
    "file.close()"
   ]
  },
  {
   "cell_type": "code",
   "execution_count": 15,
   "id": "2c2783b3",
   "metadata": {},
   "outputs": [],
   "source": [
    "import csv\n",
    "\n",
    "gene_dict = {}\n",
    "\n",
    "#parse IMPC phenotype per gene file. create dictionary that accounts for Ensembl ID and MGI ID \n",
    "with open('phenotypeHitsPerGene.csv', newline='') as csvfile:\n",
    "    reader = csv.DictReader(csvfile, delimiter='\\t')\n",
    "    for row in reader:\n",
    "        row = list(row.values())\n",
    "        geneid = row[0].split(\",\")[1].split(\":\")[1].strip(\"\\\"\")\n",
    "        gene_symbol = row[0].split(\",\")[0]\n",
    "        phenotype_hits = row[0].split(\",\")[2].strip(\"\\\"\")\n",
    "        desc = row[0].split(\",\")[3].strip(\"\\\"\")\n",
    "        gene_dict[geneid] = (gene_symbol, phenotype_hits, desc)\n"
   ]
  },
  {
   "cell_type": "code",
   "execution_count": 16,
   "id": "74535441",
   "metadata": {},
   "outputs": [
    {
     "data": {
      "text/plain": [
       "('Psmf1', '1', 'preweaning lethality')"
      ]
     },
     "execution_count": 16,
     "metadata": {},
     "output_type": "execute_result"
    }
   ],
   "source": [
    "#example\n",
    "list(gene_dict.values())[31]"
   ]
  },
  {
   "cell_type": "code",
   "execution_count": 17,
   "id": "19759896",
   "metadata": {},
   "outputs": [
    {
     "name": "stdout",
     "output_type": "stream",
     "text": [
      "Stop Codon: 0 phenotypes:  258\n",
      "lethal:  509\n",
      "Readthrough: 0 phenotypes:  332\n",
      "lethal:  677\n",
      "Frameshift: 0 phenotypes:  431\n",
      "lethal:  877\n"
     ]
    }
   ],
   "source": [
    "#format(gene_ids[i],gene_dict[gene_model[gene_ids[i]][1]][1]))\n",
    "#gene_dict[MGIID] = (name,hits)\n",
    "#gene_model[gene_id] = (name,MGIID)\n",
    "#gene_ids[exon_id] = gene_id\n",
    "\n",
    "\n",
    "#go through 3 main categories\n",
    "\n",
    "#stop codon\n",
    "file = open('stop_codon_phen.txt','w')\n",
    "#list to store gene IDs that are within the IMPC targeted mutation file, but not tested for phenotypes \n",
    "stop_codon_untested = []\n",
    "#to count how many genes have 0 phenotypes (tested, but 0)\n",
    "count = 0\n",
    "#sum of phenotypes\n",
    "stop_codon_sum = 0\n",
    "#sum of preweaning lethalities\n",
    "lethality_count = 0\n",
    "for i in stop_codon_en2:\n",
    "    try:\n",
    "        if (int(gene_dict[gene_model[gene_ids[i]][1]][1]) == 0):\n",
    "            count+=1\n",
    "        #write into a file gene name and no. of phenotypes \n",
    "        file.write(\"{} = {}\\n\".format(gene_ids[i],gene_dict[gene_model[gene_ids[i]][1]][1]))\n",
    "        stop_codon_sum += int(gene_dict[gene_model[gene_ids[i]][1]][1])\n",
    "        if (\"preweaning lethality\" in gene_dict[gene_model[gene_ids[i]][1]][2]):\n",
    "            lethality_count += 1\n",
    "    #write in the gene names that are not tested into list\n",
    "    except KeyError:\n",
    "        stop_codon_untested.append((gene_ids[i]))\n",
    "        \n",
    "file.close()\n",
    "print(\"Stop Codon: 0 phenotypes: \", count)\n",
    "print(\"lethal: \",lethality_count)\n",
    "\n",
    "#Readthrough\n",
    "file = open('read_through_phen.txt','w')\n",
    "read_through_untested = []\n",
    "count = 0\n",
    "read_through_sum = 0\n",
    "lethality_count = 0\n",
    "for i in read_through:\n",
    "    try:\n",
    "        if (int(gene_dict[gene_model[gene_ids[i]][1]][1]) == 0):\n",
    "            count+=1\n",
    "        file.write(\"{} = {}\\n\".format(gene_ids[i],gene_dict[gene_model[gene_ids[i]][1]][1]))\n",
    "        read_through_sum += int(gene_dict[gene_model[gene_ids[i]][1]][1])\n",
    "        if (\"preweaning lethality\" in gene_dict[gene_model[gene_ids[i]][1]][2]):\n",
    "            lethality_count += 1\n",
    "    except KeyError:\n",
    "        read_through_untested.append((gene_ids[i]))\n",
    "        \n",
    "file.close()\n",
    "print(\"Readthrough: 0 phenotypes: \",count)\n",
    "print(\"lethal: \",lethality_count)\n",
    "\n",
    "#Frameshift\n",
    "file = open('frameshift_phen.txt','w')\n",
    "frameshift_untested = []\n",
    "count = 0\n",
    "frameshift_sum = 0\n",
    "\n",
    "lethality_count = 0\n",
    "for i in frameshift:\n",
    "    try:\n",
    "        if (int(gene_dict[gene_model[gene_ids[i]][1]][1]) == 0):\n",
    "            count+=1\n",
    "        file.write(\"{} = {}\\n\".format(gene_ids[i],gene_dict[gene_model[gene_ids[i]][1]][1]))\n",
    "        frameshift_sum += int(gene_dict[gene_model[gene_ids[i]][1]][1])\n",
    "        if (\"preweaning lethality\" in gene_dict[gene_model[gene_ids[i]][1]][2]):\n",
    "            lethality_count += 1\n",
    "    except KeyError:\n",
    "        frameshift_untested.append((gene_ids[i]))\n",
    "        \n",
    "file.close()\n",
    "print(\"Frameshift: 0 phenotypes: \",count)\n",
    "print(\"lethal: \",lethality_count)"
   ]
  },
  {
   "cell_type": "code",
   "execution_count": 18,
   "id": "a9138a77",
   "metadata": {},
   "outputs": [
    {
     "name": "stdout",
     "output_type": "stream",
     "text": [
      "Stop_Codon Untested 1418\n",
      "Readthrough Untested:  1920\n",
      "Frameshift Untested:  2552\n",
      "Stop_Codon Phenotype Sum  6282\n",
      "Readthrough Phenotype Sum:  8254\n",
      "Frameshift Phenotype Sum:  11637\n"
     ]
    }
   ],
   "source": [
    "#Untested\n",
    "print(\"Stop_Codon Untested\",len(stop_codon_untested))\n",
    "print(\"Readthrough Untested: \",len(read_through_untested))\n",
    "print(\"Frameshift Untested: \",len(frameshift_untested))\n",
    "#Sum\n",
    "print(\"Stop_Codon Phenotype Sum \",stop_codon_sum)\n",
    "print(\"Readthrough Phenotype Sum: \",read_through_sum)\n",
    "print(\"Frameshift Phenotype Sum: \",frameshift_sum)"
   ]
  },
  {
   "cell_type": "code",
   "execution_count": 19,
   "id": "1302f915",
   "metadata": {},
   "outputs": [],
   "source": [
    "import pandas as pd\n",
    "\n",
    "# read the Excel file\n",
    "df = pd.read_excel('tm1b.xlsx')"
   ]
  },
  {
   "cell_type": "code",
   "execution_count": 20,
   "id": "9f60d259",
   "metadata": {},
   "outputs": [],
   "source": [
    "mgi_to_phenotypes = {}\n",
    "# iterate over the rows and assign the values to variables\n",
    "for index, row in df.iterrows():\n",
    "    mgi_id = row[0].split(':')[1]\n",
    "    phenotypes = row[22]\n",
    "    # assign the values to other variables as needed\n",
    "    mgi_to_phenotypes[mgi_id] = phenotypes"
   ]
  },
  {
   "cell_type": "code",
   "execution_count": 21,
   "id": "096cdee5",
   "metadata": {},
   "outputs": [
    {
     "name": "stdout",
     "output_type": "stream",
     "text": [
      "3426\n",
      "Frameshift unique:  343\n",
      "2550\n",
      "Read Through unique:  289\n",
      "1919\n",
      "Stop Codon unique:  274\n"
     ]
    }
   ],
   "source": [
    "frameshift_unique_pheno = []\n",
    "err = 0\n",
    "for i in frameshift:\n",
    "    try:\n",
    "        frameshift_unique_pheno.append(mgi_to_phenotypes[gene_model[gene_ids[i]][1]])\n",
    "    except:\n",
    "        err +=1 \n",
    "\n",
    "#err = mgids not in xlsx file\n",
    "print(err)\n",
    "#getting rid of duplicates\n",
    "frameshift_unique_pheno = list(dict.fromkeys(frameshift_unique_pheno))\n",
    "print(\"Frameshift unique: \",len(frameshift_unique_pheno))\n",
    "\n",
    "read_through_unique_pheno = []\n",
    "err = 0\n",
    "for i in read_through:\n",
    "    try:\n",
    "        read_through_unique_pheno.append(mgi_to_phenotypes[gene_model[gene_ids[i]][1]])\n",
    "    except:\n",
    "        err +=1 \n",
    "\n",
    "#err = mgids not in xlsx file\n",
    "print(err)\n",
    "#getting rid of duplicates\n",
    "read_through_unique_pheno = list(dict.fromkeys(read_through_unique_pheno))\n",
    "print(\"Read Through unique: \",len(read_through_unique_pheno))\n",
    "\n",
    "\n",
    "stop_codon_en2_unique_pheno = []\n",
    "err = 0\n",
    "for i in stop_codon_en2:\n",
    "    try:\n",
    "        stop_codon_en2_unique_pheno.append(mgi_to_phenotypes[gene_model[gene_ids[i]][1]])\n",
    "    except:\n",
    "        err +=1 \n",
    "\n",
    "#err = mgids not in xlsx file\n",
    "print(err)\n",
    "#getting rid of duplicates\n",
    "stop_codon_en2_unique_pheno = list(dict.fromkeys(stop_codon_en2_unique_pheno))\n",
    "print(\"Stop Codon unique: \",len(stop_codon_en2_unique_pheno))\n"
   ]
  },
  {
   "cell_type": "code",
   "execution_count": null,
   "id": "3da2b0d8",
   "metadata": {},
   "outputs": [],
   "source": []
  }
 ],
 "metadata": {
  "kernelspec": {
   "display_name": "Python 3 (ipykernel)",
   "language": "python",
   "name": "python3"
  },
  "language_info": {
   "codemirror_mode": {
    "name": "ipython",
    "version": 3
   },
   "file_extension": ".py",
   "mimetype": "text/x-python",
   "name": "python",
   "nbconvert_exporter": "python",
   "pygments_lexer": "ipython3",
   "version": "3.9.7"
  }
 },
 "nbformat": 4,
 "nbformat_minor": 5
}
